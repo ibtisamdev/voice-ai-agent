{
 "cells": [
  {
   "cell_type": "markdown",
   "metadata": {},
   "source": [
    "# Conversation Analytics\n",
    "\n",
    "Analyze conversation patterns, performance metrics, and user interactions from the Voice AI Agent.\n",
    "\n",
    "## Metrics covered:\n",
    "- Session statistics (duration, turns, completion rate)\n",
    "- Intent distribution\n",
    "- Voice processing performance (STT/TTS latency)\n",
    "- Conversation flow patterns"
   ]
  },
  {
   "cell_type": "code",
   "execution_count": null,
   "metadata": {},
   "outputs": [],
   "source": [
    "# Setup\n",
    "import sys\n",
    "sys.path.insert(0, '/app')\n",
    "\n",
    "import os\n",
    "import pandas as pd\n",
    "import numpy as np\n",
    "import matplotlib.pyplot as plt\n",
    "import seaborn as sns\n",
    "from sqlalchemy import create_engine, text\n",
    "from datetime import datetime, timedelta\n",
    "\n",
    "# Set style\n",
    "sns.set_style('whitegrid')\n",
    "plt.rcParams['figure.figsize'] = (12, 6)\n",
    "\n",
    "# Create database connection\n",
    "engine = create_engine(os.getenv('DATABASE_URL'))\n",
    "\n",
    "print(\"✓ Analytics notebook ready\")"
   ]
  },
  {
   "cell_type": "markdown",
   "metadata": {},
   "source": [
    "## 1. Session Overview"
   ]
  },
  {
   "cell_type": "code",
   "execution_count": null,
   "metadata": {},
   "outputs": [],
   "source": [
    "# Get session statistics\n",
    "query = \"\"\"\n",
    "SELECT \n",
    "    DATE(created_at) as date,\n",
    "    COUNT(*) as total_sessions,\n",
    "    COUNT(CASE WHEN status = 'completed' THEN 1 END) as completed_sessions,\n",
    "    COUNT(CASE WHEN status = 'active' THEN 1 END) as active_sessions,\n",
    "    COUNT(CASE WHEN direction = 'inbound' THEN 1 END) as inbound_calls,\n",
    "    COUNT(CASE WHEN direction = 'outbound' THEN 1 END) as outbound_calls\n",
    "FROM conversations.conversation_sessions\n",
    "WHERE created_at >= NOW() - INTERVAL '30 days'\n",
    "GROUP BY DATE(created_at)\n",
    "ORDER BY date DESC;\n",
    "\"\"\"\n",
    "\n",
    "df_sessions = pd.read_sql(query, engine)\n",
    "print(f\"Sessions in last 30 days: {df_sessions['total_sessions'].sum()}\")\n",
    "display(df_sessions.head(10))"
   ]
  },
  {
   "cell_type": "code",
   "execution_count": null,
   "metadata": {},
   "outputs": [],
   "source": [
    "# Visualize session trends\n",
    "fig, axes = plt.subplots(2, 1, figsize=(14, 10))\n",
    "\n",
    "# Session volume over time\n",
    "axes[0].plot(df_sessions['date'], df_sessions['total_sessions'], marker='o', linewidth=2, label='Total')\n",
    "axes[0].plot(df_sessions['date'], df_sessions['completed_sessions'], marker='s', linewidth=2, label='Completed')\n",
    "axes[0].set_title('Session Volume Over Time', fontsize=14, fontweight='bold')\n",
    "axes[0].set_xlabel('Date')\n",
    "axes[0].set_ylabel('Number of Sessions')\n",
    "axes[0].legend()\n",
    "axes[0].grid(True, alpha=0.3)\n",
    "\n",
    "# Inbound vs Outbound\n",
    "axes[1].bar(df_sessions['date'], df_sessions['inbound_calls'], label='Inbound', alpha=0.7)\n",
    "axes[1].bar(df_sessions['date'], df_sessions['outbound_calls'], bottom=df_sessions['inbound_calls'], \n",
    "           label='Outbound', alpha=0.7)\n",
    "axes[1].set_title('Call Direction Distribution', fontsize=14, fontweight='bold')\n",
    "axes[1].set_xlabel('Date')\n",
    "axes[1].set_ylabel('Number of Calls')\n",
    "axes[1].legend()\n",
    "axes[1].grid(True, alpha=0.3)\n",
    "\n",
    "plt.tight_layout()\n",
    "plt.show()"
   ]
  },
  {
   "cell_type": "markdown",
   "metadata": {},
   "source": [
    "## 2. Conversation Turn Analysis"
   ]
  },
  {
   "cell_type": "code",
   "execution_count": null,
   "metadata": {},
   "outputs": [],
   "source": [
    "# Get conversation turn statistics\n",
    "query = \"\"\"\n",
    "SELECT \n",
    "    cs.session_id,\n",
    "    cs.session_type,\n",
    "    cs.status,\n",
    "    COUNT(ct.turn_id) as total_turns,\n",
    "    AVG(ct.processing_time) as avg_processing_time,\n",
    "    cs.created_at,\n",
    "    cs.ended_at,\n",
    "    EXTRACT(EPOCH FROM (cs.ended_at - cs.created_at)) as duration_seconds\n",
    "FROM conversations.conversation_sessions cs\n",
    "LEFT JOIN conversations.conversation_turns ct ON cs.session_id = ct.session_id\n",
    "WHERE cs.created_at >= NOW() - INTERVAL '7 days'\n",
    "GROUP BY cs.session_id, cs.session_type, cs.status, cs.created_at, cs.ended_at;\n",
    "\"\"\"\n",
    "\n",
    "df_turns = pd.read_sql(query, engine)\n",
    "print(f\"Conversations analyzed: {len(df_turns)}\")\n",
    "print(f\"\\nAverage turns per conversation: {df_turns['total_turns'].mean():.1f}\")\n",
    "print(f\"Average conversation duration: {df_turns['duration_seconds'].mean():.1f} seconds\")\n",
    "display(df_turns.head())"
   ]
  },
  {
   "cell_type": "code",
   "execution_count": null,
   "metadata": {},
   "outputs": [],
   "source": [
    "# Visualize turn distribution\n",
    "fig, axes = plt.subplots(1, 2, figsize=(14, 5))\n",
    "\n",
    "# Turn count distribution\n",
    "axes[0].hist(df_turns['total_turns'].dropna(), bins=20, edgecolor='black', alpha=0.7)\n",
    "axes[0].axvline(df_turns['total_turns'].mean(), color='red', linestyle='--', \n",
    "                label=f'Mean: {df_turns[\"total_turns\"].mean():.1f}')\n",
    "axes[0].set_title('Distribution of Turns per Conversation', fontsize=12, fontweight='bold')\n",
    "axes[0].set_xlabel('Number of Turns')\n",
    "axes[0].set_ylabel('Frequency')\n",
    "axes[0].legend()\n",
    "axes[0].grid(True, alpha=0.3)\n",
    "\n",
    "# Duration distribution\n",
    "axes[1].hist(df_turns['duration_seconds'].dropna()/60, bins=20, edgecolor='black', alpha=0.7, color='green')\n",
    "axes[1].axvline(df_turns['duration_seconds'].mean()/60, color='red', linestyle='--',\n",
    "                label=f'Mean: {df_turns[\"duration_seconds\"].mean()/60:.1f} min')\n",
    "axes[1].set_title('Conversation Duration Distribution', fontsize=12, fontweight='bold')\n",
    "axes[1].set_xlabel('Duration (minutes)')\n",
    "axes[1].set_ylabel('Frequency')\n",
    "axes[1].legend()\n",
    "axes[1].grid(True, alpha=0.3)\n",
    "\n",
    "plt.tight_layout()\n",
    "plt.show()"
   ]
  },
  {
   "cell_type": "markdown",
   "metadata": {},
   "source": [
    "## 3. Voice Processing Performance"
   ]
  },
  {
   "cell_type": "code",
   "execution_count": null,
   "metadata": {},
   "outputs": [],
   "source": [
    "# Get STT/TTS performance metrics\n",
    "query_stt = \"\"\"\n",
    "SELECT \n",
    "    DATE_TRUNC('hour', created_at) as hour,\n",
    "    COUNT(*) as total_transcriptions,\n",
    "    AVG(processing_time) as avg_processing_time,\n",
    "    AVG(audio_duration) as avg_audio_duration,\n",
    "    AVG(confidence_score) as avg_confidence\n",
    "FROM voice_data.transcriptions\n",
    "WHERE created_at >= NOW() - INTERVAL '7 days'\n",
    "GROUP BY DATE_TRUNC('hour', created_at)\n",
    "ORDER BY hour DESC;\n",
    "\"\"\"\n",
    "\n",
    "query_tts = \"\"\"\n",
    "SELECT \n",
    "    DATE_TRUNC('hour', created_at) as hour,\n",
    "    COUNT(*) as total_syntheses,\n",
    "    AVG(processing_time) as avg_processing_time,\n",
    "    AVG(character_count) as avg_characters\n",
    "FROM voice_data.syntheses\n",
    "WHERE created_at >= NOW() - INTERVAL '7 days'\n",
    "GROUP BY DATE_TRUNC('hour', created_at)\n",
    "ORDER BY hour DESC;\n",
    "\"\"\"\n",
    "\n",
    "try:\n",
    "    df_stt = pd.read_sql(query_stt, engine)\n",
    "    df_tts = pd.read_sql(query_tts, engine)\n",
    "    \n",
    "    print(f\"STT operations analyzed: {df_stt['total_transcriptions'].sum()}\")\n",
    "    print(f\"TTS operations analyzed: {df_tts['total_syntheses'].sum()}\")\n",
    "    print(f\"\\nAverage STT processing time: {df_stt['avg_processing_time'].mean():.3f}s\")\n",
    "    print(f\"Average TTS processing time: {df_tts['avg_processing_time'].mean():.3f}s\")\n",
    "except Exception as e:\n",
    "    print(f\"Note: Voice processing tables may be empty. Error: {e}\")"
   ]
  },
  {
   "cell_type": "markdown",
   "metadata": {},
   "source": [
    "## 4. Intent Classification Analysis"
   ]
  },
  {
   "cell_type": "code",
   "execution_count": null,
   "metadata": {},
   "outputs": [],
   "source": [
    "# Get intent distribution from conversation turns\n",
    "query = \"\"\"\n",
    "SELECT \n",
    "    intent,\n",
    "    COUNT(*) as count,\n",
    "    AVG(confidence_score) as avg_confidence\n",
    "FROM conversations.conversation_turns\n",
    "WHERE created_at >= NOW() - INTERVAL '7 days'\n",
    "  AND intent IS NOT NULL\n",
    "GROUP BY intent\n",
    "ORDER BY count DESC\n",
    "LIMIT 10;\n",
    "\"\"\"\n",
    "\n",
    "try:\n",
    "    df_intents = pd.read_sql(query, engine)\n",
    "    \n",
    "    if len(df_intents) > 0:\n",
    "        # Create pie chart\n",
    "        plt.figure(figsize=(10, 6))\n",
    "        plt.pie(df_intents['count'], labels=df_intents['intent'], autopct='%1.1f%%', startangle=90)\n",
    "        plt.title('Top 10 Intent Distribution (Last 7 Days)', fontsize=14, fontweight='bold')\n",
    "        plt.axis('equal')\n",
    "        plt.show()\n",
    "        \n",
    "        display(df_intents)\n",
    "    else:\n",
    "        print(\"No intent data available yet\")\n",
    "except Exception as e:\n",
    "    print(f\"Intent analysis not available: {e}\")"
   ]
  },
  {
   "cell_type": "markdown",
   "metadata": {},
   "source": [
    "## 5. Daily Analytics Summary"
   ]
  },
  {
   "cell_type": "code",
   "execution_count": null,
   "metadata": {},
   "outputs": [],
   "source": [
    "# Get daily summary from analytics schema\n",
    "query = \"\"\"\n",
    "SELECT \n",
    "    date,\n",
    "    total_sessions,\n",
    "    total_turns,\n",
    "    avg_session_duration,\n",
    "    avg_turns_per_session,\n",
    "    total_transcriptions,\n",
    "    total_syntheses\n",
    "FROM analytics.daily_stats\n",
    "ORDER BY date DESC\n",
    "LIMIT 30;\n",
    "\"\"\"\n",
    "\n",
    "try:\n",
    "    df_daily = pd.read_sql(query, engine)\n",
    "    \n",
    "    if len(df_daily) > 0:\n",
    "        print(\"Daily Analytics Summary (Last 30 Days)\")\n",
    "        display(df_daily)\n",
    "    else:\n",
    "        print(\"No daily analytics data available yet\")\n",
    "except Exception as e:\n",
    "    print(f\"Daily analytics not available: {e}\")"
   ]
  },
  {
   "cell_type": "markdown",
   "metadata": {},
   "source": [
    "## Custom Queries\n",
    "\n",
    "Use this section for your own custom analysis queries."
   ]
  },
  {
   "cell_type": "code",
   "execution_count": null,
   "metadata": {},
   "outputs": [],
   "source": [
    "# Your custom query here\n",
    "custom_query = \"\"\"\n",
    "-- Add your SQL query\n",
    "SELECT 1;\n",
    "\"\"\"\n",
    "\n",
    "# df_custom = pd.read_sql(custom_query, engine)\n",
    "# display(df_custom)"
   ]
  }
 ],
 "metadata": {
  "kernelspec": {
   "display_name": "Python 3",
   "language": "python",
   "name": "python3"
  },
  "language_info": {
   "codemirror_mode": {
    "name": "ipython",
    "version": 3
   },
   "file_extension": ".py",
   "mimetype": "text/x-python",
   "name": "python",
   "nbconvert_exporter": "python",
   "pygments_lexer": "ipython3",
   "version": "3.11.0"
  }
 },
 "nbformat": 4,
 "nbformat_minor": 4
}
